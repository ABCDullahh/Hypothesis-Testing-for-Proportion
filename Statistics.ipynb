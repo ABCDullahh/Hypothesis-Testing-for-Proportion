{
 "cells": [
  {
   "cell_type": "markdown",
   "metadata": {},
   "source": [
    "# Z TEST"
   ]
  },
  {
   "cell_type": "code",
   "execution_count": 194,
   "metadata": {},
   "outputs": [],
   "source": [
    "import pandas as pd\n",
    "import numpy as np\n",
    "import seaborn as sns\n",
    "import matplotlib.pyplot as plt\n",
    "import warnings\n",
    "warnings.filterwarnings(\"ignore\")\n",
    "pd.set_option('display.max_columns', 500)\n",
    "pd.set_option('display.max_rows', 150)\n"
   ]
  },
  {
   "cell_type": "code",
   "execution_count": 195,
   "metadata": {},
   "outputs": [
    {
     "data": {
      "text/html": [
       "<div>\n",
       "<style scoped>\n",
       "    .dataframe tbody tr th:only-of-type {\n",
       "        vertical-align: middle;\n",
       "    }\n",
       "\n",
       "    .dataframe tbody tr th {\n",
       "        vertical-align: top;\n",
       "    }\n",
       "\n",
       "    .dataframe thead th {\n",
       "        text-align: right;\n",
       "    }\n",
       "</style>\n",
       "<table border=\"1\" class=\"dataframe\">\n",
       "  <thead>\n",
       "    <tr style=\"text-align: right;\">\n",
       "      <th></th>\n",
       "      <th>total_bill</th>\n",
       "      <th>tip</th>\n",
       "      <th>sex</th>\n",
       "      <th>smoker</th>\n",
       "      <th>day</th>\n",
       "      <th>time</th>\n",
       "      <th>size</th>\n",
       "    </tr>\n",
       "  </thead>\n",
       "  <tbody>\n",
       "    <tr>\n",
       "      <th>0</th>\n",
       "      <td>16.99</td>\n",
       "      <td>1.01</td>\n",
       "      <td>Female</td>\n",
       "      <td>No</td>\n",
       "      <td>Sun</td>\n",
       "      <td>Dinner</td>\n",
       "      <td>2</td>\n",
       "    </tr>\n",
       "    <tr>\n",
       "      <th>1</th>\n",
       "      <td>10.34</td>\n",
       "      <td>1.66</td>\n",
       "      <td>Male</td>\n",
       "      <td>No</td>\n",
       "      <td>Sun</td>\n",
       "      <td>Dinner</td>\n",
       "      <td>3</td>\n",
       "    </tr>\n",
       "    <tr>\n",
       "      <th>2</th>\n",
       "      <td>21.01</td>\n",
       "      <td>3.50</td>\n",
       "      <td>Male</td>\n",
       "      <td>No</td>\n",
       "      <td>Sun</td>\n",
       "      <td>Dinner</td>\n",
       "      <td>3</td>\n",
       "    </tr>\n",
       "    <tr>\n",
       "      <th>3</th>\n",
       "      <td>23.68</td>\n",
       "      <td>3.31</td>\n",
       "      <td>Male</td>\n",
       "      <td>No</td>\n",
       "      <td>Sun</td>\n",
       "      <td>Dinner</td>\n",
       "      <td>2</td>\n",
       "    </tr>\n",
       "    <tr>\n",
       "      <th>4</th>\n",
       "      <td>24.59</td>\n",
       "      <td>3.61</td>\n",
       "      <td>Female</td>\n",
       "      <td>No</td>\n",
       "      <td>Sun</td>\n",
       "      <td>Dinner</td>\n",
       "      <td>4</td>\n",
       "    </tr>\n",
       "    <tr>\n",
       "      <th>5</th>\n",
       "      <td>25.29</td>\n",
       "      <td>4.71</td>\n",
       "      <td>Male</td>\n",
       "      <td>No</td>\n",
       "      <td>Sun</td>\n",
       "      <td>Dinner</td>\n",
       "      <td>4</td>\n",
       "    </tr>\n",
       "    <tr>\n",
       "      <th>6</th>\n",
       "      <td>8.77</td>\n",
       "      <td>2.00</td>\n",
       "      <td>Male</td>\n",
       "      <td>No</td>\n",
       "      <td>Sun</td>\n",
       "      <td>Dinner</td>\n",
       "      <td>2</td>\n",
       "    </tr>\n",
       "    <tr>\n",
       "      <th>7</th>\n",
       "      <td>26.88</td>\n",
       "      <td>3.12</td>\n",
       "      <td>Male</td>\n",
       "      <td>No</td>\n",
       "      <td>Sun</td>\n",
       "      <td>Dinner</td>\n",
       "      <td>4</td>\n",
       "    </tr>\n",
       "    <tr>\n",
       "      <th>8</th>\n",
       "      <td>15.04</td>\n",
       "      <td>1.96</td>\n",
       "      <td>Male</td>\n",
       "      <td>No</td>\n",
       "      <td>Sun</td>\n",
       "      <td>Dinner</td>\n",
       "      <td>2</td>\n",
       "    </tr>\n",
       "    <tr>\n",
       "      <th>9</th>\n",
       "      <td>14.78</td>\n",
       "      <td>3.23</td>\n",
       "      <td>Male</td>\n",
       "      <td>No</td>\n",
       "      <td>Sun</td>\n",
       "      <td>Dinner</td>\n",
       "      <td>2</td>\n",
       "    </tr>\n",
       "  </tbody>\n",
       "</table>\n",
       "</div>"
      ],
      "text/plain": [
       "   total_bill   tip     sex smoker  day    time  size\n",
       "0       16.99  1.01  Female     No  Sun  Dinner     2\n",
       "1       10.34  1.66    Male     No  Sun  Dinner     3\n",
       "2       21.01  3.50    Male     No  Sun  Dinner     3\n",
       "3       23.68  3.31    Male     No  Sun  Dinner     2\n",
       "4       24.59  3.61  Female     No  Sun  Dinner     4\n",
       "5       25.29  4.71    Male     No  Sun  Dinner     4\n",
       "6        8.77  2.00    Male     No  Sun  Dinner     2\n",
       "7       26.88  3.12    Male     No  Sun  Dinner     4\n",
       "8       15.04  1.96    Male     No  Sun  Dinner     2\n",
       "9       14.78  3.23    Male     No  Sun  Dinner     2"
      ]
     },
     "execution_count": 195,
     "metadata": {},
     "output_type": "execute_result"
    }
   ],
   "source": [
    "tips = sns.load_dataset('tips')\n",
    "tips.head(10)"
   ]
  },
  {
   "cell_type": "markdown",
   "metadata": {},
   "source": [
    "## Analisis data"
   ]
  },
  {
   "cell_type": "code",
   "execution_count": 196,
   "metadata": {},
   "outputs": [
    {
     "data": {
      "text/plain": [
       "152"
      ]
     },
     "metadata": {},
     "output_type": "display_data"
    },
    {
     "data": {
      "text/html": [
       "<div>\n",
       "<style scoped>\n",
       "    .dataframe tbody tr th:only-of-type {\n",
       "        vertical-align: middle;\n",
       "    }\n",
       "\n",
       "    .dataframe tbody tr th {\n",
       "        vertical-align: top;\n",
       "    }\n",
       "\n",
       "    .dataframe thead th {\n",
       "        text-align: right;\n",
       "    }\n",
       "</style>\n",
       "<table border=\"1\" class=\"dataframe\">\n",
       "  <thead>\n",
       "    <tr style=\"text-align: right;\">\n",
       "      <th></th>\n",
       "      <th>total_bill</th>\n",
       "      <th>tip</th>\n",
       "      <th>sex</th>\n",
       "      <th>smoker</th>\n",
       "      <th>day</th>\n",
       "      <th>time</th>\n",
       "      <th>size</th>\n",
       "      <th>weekday_weekend</th>\n",
       "      <th>tip_given</th>\n",
       "      <th>portion_size</th>\n",
       "    </tr>\n",
       "  </thead>\n",
       "  <tbody>\n",
       "    <tr>\n",
       "      <th>142</th>\n",
       "      <td>41.19</td>\n",
       "      <td>5.00</td>\n",
       "      <td>Male</td>\n",
       "      <td>No</td>\n",
       "      <td>Thur</td>\n",
       "      <td>Lunch</td>\n",
       "      <td>5</td>\n",
       "      <td>Weekdays</td>\n",
       "      <td>Generous</td>\n",
       "      <td>Big</td>\n",
       "    </tr>\n",
       "    <tr>\n",
       "      <th>242</th>\n",
       "      <td>17.82</td>\n",
       "      <td>1.75</td>\n",
       "      <td>Male</td>\n",
       "      <td>No</td>\n",
       "      <td>Sat</td>\n",
       "      <td>Dinner</td>\n",
       "      <td>2</td>\n",
       "      <td>Weekend</td>\n",
       "      <td>Stingy</td>\n",
       "      <td>Small</td>\n",
       "    </tr>\n",
       "    <tr>\n",
       "      <th>106</th>\n",
       "      <td>20.49</td>\n",
       "      <td>4.06</td>\n",
       "      <td>Male</td>\n",
       "      <td>Yes</td>\n",
       "      <td>Sat</td>\n",
       "      <td>Dinner</td>\n",
       "      <td>2</td>\n",
       "      <td>Weekend</td>\n",
       "      <td>Generous</td>\n",
       "      <td>Small</td>\n",
       "    </tr>\n",
       "    <tr>\n",
       "      <th>147</th>\n",
       "      <td>11.87</td>\n",
       "      <td>1.63</td>\n",
       "      <td>Female</td>\n",
       "      <td>No</td>\n",
       "      <td>Thur</td>\n",
       "      <td>Lunch</td>\n",
       "      <td>2</td>\n",
       "      <td>Weekdays</td>\n",
       "      <td>Stingy</td>\n",
       "      <td>Small</td>\n",
       "    </tr>\n",
       "    <tr>\n",
       "      <th>53</th>\n",
       "      <td>9.94</td>\n",
       "      <td>1.56</td>\n",
       "      <td>Male</td>\n",
       "      <td>No</td>\n",
       "      <td>Sun</td>\n",
       "      <td>Dinner</td>\n",
       "      <td>2</td>\n",
       "      <td>Weekend</td>\n",
       "      <td>Stingy</td>\n",
       "      <td>Small</td>\n",
       "    </tr>\n",
       "  </tbody>\n",
       "</table>\n",
       "</div>"
      ],
      "text/plain": [
       "     total_bill   tip     sex smoker   day    time  size weekday_weekend  \\\n",
       "142       41.19  5.00    Male     No  Thur   Lunch     5        Weekdays   \n",
       "242       17.82  1.75    Male     No   Sat  Dinner     2         Weekend   \n",
       "106       20.49  4.06    Male    Yes   Sat  Dinner     2         Weekend   \n",
       "147       11.87  1.63  Female     No  Thur   Lunch     2        Weekdays   \n",
       "53         9.94  1.56    Male     No   Sun  Dinner     2         Weekend   \n",
       "\n",
       "    tip_given portion_size  \n",
       "142  Generous          Big  \n",
       "242    Stingy        Small  \n",
       "106  Generous        Small  \n",
       "147    Stingy        Small  \n",
       "53     Stingy        Small  "
      ]
     },
     "metadata": {},
     "output_type": "display_data"
    }
   ],
   "source": [
    "# Create weekday from tips dataset\n",
    "tips['weekday_weekend'] = np.where(tips['day'].isin(['Sat', 'Sun']), 'Weekend', 'Weekdays')\n",
    "\n",
    "# Create tip group apakah diatas rata rata dan dibawah rata rata\n",
    "tips['tip_given'] = np.where(tips['tip'] > tips['tip'].mean(), 'Generous', 'Stingy')\n",
    "\n",
    "# Create portion size apakah size diatas rata rata dan dibawah rata rata\n",
    "tips['portion_size'] = np.where(tips['size'] > tips['size'].mean(), 'Big', 'Small')\n",
    "tips\n",
    "\n",
    "N = len(tips)\n",
    "e = 0.05\n",
    "n = round(N/(1+(N*(e**2))))\n",
    "\n",
    "tipsSample = tips.sample(n)\n",
    "display(n, tipsSample.head())"
   ]
  },
  {
   "cell_type": "markdown",
   "metadata": {},
   "source": [
    "## Cek proporsi dari masing masing kolom pada populasi"
   ]
  },
  {
   "cell_type": "code",
   "execution_count": 197,
   "metadata": {},
   "outputs": [
    {
     "data": {
      "text/html": [
       "<div>\n",
       "<style scoped>\n",
       "    .dataframe tbody tr th:only-of-type {\n",
       "        vertical-align: middle;\n",
       "    }\n",
       "\n",
       "    .dataframe tbody tr th {\n",
       "        vertical-align: top;\n",
       "    }\n",
       "\n",
       "    .dataframe thead th {\n",
       "        text-align: right;\n",
       "    }\n",
       "</style>\n",
       "<table border=\"1\" class=\"dataframe\">\n",
       "  <thead>\n",
       "    <tr style=\"text-align: right;\">\n",
       "      <th></th>\n",
       "      <th>proportion</th>\n",
       "    </tr>\n",
       "    <tr>\n",
       "      <th>sex</th>\n",
       "      <th></th>\n",
       "    </tr>\n",
       "  </thead>\n",
       "  <tbody>\n",
       "    <tr>\n",
       "      <th>Male</th>\n",
       "      <td>64.344262</td>\n",
       "    </tr>\n",
       "    <tr>\n",
       "      <th>Female</th>\n",
       "      <td>35.655738</td>\n",
       "    </tr>\n",
       "  </tbody>\n",
       "</table>\n",
       "</div>"
      ],
      "text/plain": [
       "        proportion\n",
       "sex               \n",
       "Male     64.344262\n",
       "Female   35.655738"
      ]
     },
     "metadata": {},
     "output_type": "display_data"
    },
    {
     "data": {
      "text/html": [
       "<div>\n",
       "<style scoped>\n",
       "    .dataframe tbody tr th:only-of-type {\n",
       "        vertical-align: middle;\n",
       "    }\n",
       "\n",
       "    .dataframe tbody tr th {\n",
       "        vertical-align: top;\n",
       "    }\n",
       "\n",
       "    .dataframe thead th {\n",
       "        text-align: right;\n",
       "    }\n",
       "</style>\n",
       "<table border=\"1\" class=\"dataframe\">\n",
       "  <thead>\n",
       "    <tr style=\"text-align: right;\">\n",
       "      <th></th>\n",
       "      <th>proportion</th>\n",
       "    </tr>\n",
       "    <tr>\n",
       "      <th>smoker</th>\n",
       "      <th></th>\n",
       "    </tr>\n",
       "  </thead>\n",
       "  <tbody>\n",
       "    <tr>\n",
       "      <th>No</th>\n",
       "      <td>61.885246</td>\n",
       "    </tr>\n",
       "    <tr>\n",
       "      <th>Yes</th>\n",
       "      <td>38.114754</td>\n",
       "    </tr>\n",
       "  </tbody>\n",
       "</table>\n",
       "</div>"
      ],
      "text/plain": [
       "        proportion\n",
       "smoker            \n",
       "No       61.885246\n",
       "Yes      38.114754"
      ]
     },
     "metadata": {},
     "output_type": "display_data"
    },
    {
     "data": {
      "text/html": [
       "<div>\n",
       "<style scoped>\n",
       "    .dataframe tbody tr th:only-of-type {\n",
       "        vertical-align: middle;\n",
       "    }\n",
       "\n",
       "    .dataframe tbody tr th {\n",
       "        vertical-align: top;\n",
       "    }\n",
       "\n",
       "    .dataframe thead th {\n",
       "        text-align: right;\n",
       "    }\n",
       "</style>\n",
       "<table border=\"1\" class=\"dataframe\">\n",
       "  <thead>\n",
       "    <tr style=\"text-align: right;\">\n",
       "      <th></th>\n",
       "      <th>proportion</th>\n",
       "    </tr>\n",
       "    <tr>\n",
       "      <th>time</th>\n",
       "      <th></th>\n",
       "    </tr>\n",
       "  </thead>\n",
       "  <tbody>\n",
       "    <tr>\n",
       "      <th>Dinner</th>\n",
       "      <td>72.131148</td>\n",
       "    </tr>\n",
       "    <tr>\n",
       "      <th>Lunch</th>\n",
       "      <td>27.868852</td>\n",
       "    </tr>\n",
       "  </tbody>\n",
       "</table>\n",
       "</div>"
      ],
      "text/plain": [
       "        proportion\n",
       "time              \n",
       "Dinner   72.131148\n",
       "Lunch    27.868852"
      ]
     },
     "metadata": {},
     "output_type": "display_data"
    },
    {
     "data": {
      "text/html": [
       "<div>\n",
       "<style scoped>\n",
       "    .dataframe tbody tr th:only-of-type {\n",
       "        vertical-align: middle;\n",
       "    }\n",
       "\n",
       "    .dataframe tbody tr th {\n",
       "        vertical-align: top;\n",
       "    }\n",
       "\n",
       "    .dataframe thead th {\n",
       "        text-align: right;\n",
       "    }\n",
       "</style>\n",
       "<table border=\"1\" class=\"dataframe\">\n",
       "  <thead>\n",
       "    <tr style=\"text-align: right;\">\n",
       "      <th></th>\n",
       "      <th>proportion</th>\n",
       "    </tr>\n",
       "    <tr>\n",
       "      <th>weekday_weekend</th>\n",
       "      <th></th>\n",
       "    </tr>\n",
       "  </thead>\n",
       "  <tbody>\n",
       "    <tr>\n",
       "      <th>Weekend</th>\n",
       "      <td>66.803279</td>\n",
       "    </tr>\n",
       "    <tr>\n",
       "      <th>Weekdays</th>\n",
       "      <td>33.196721</td>\n",
       "    </tr>\n",
       "  </tbody>\n",
       "</table>\n",
       "</div>"
      ],
      "text/plain": [
       "                 proportion\n",
       "weekday_weekend            \n",
       "Weekend           66.803279\n",
       "Weekdays          33.196721"
      ]
     },
     "metadata": {},
     "output_type": "display_data"
    },
    {
     "data": {
      "text/html": [
       "<div>\n",
       "<style scoped>\n",
       "    .dataframe tbody tr th:only-of-type {\n",
       "        vertical-align: middle;\n",
       "    }\n",
       "\n",
       "    .dataframe tbody tr th {\n",
       "        vertical-align: top;\n",
       "    }\n",
       "\n",
       "    .dataframe thead th {\n",
       "        text-align: right;\n",
       "    }\n",
       "</style>\n",
       "<table border=\"1\" class=\"dataframe\">\n",
       "  <thead>\n",
       "    <tr style=\"text-align: right;\">\n",
       "      <th></th>\n",
       "      <th>proportion</th>\n",
       "    </tr>\n",
       "    <tr>\n",
       "      <th>tip_given</th>\n",
       "      <th></th>\n",
       "    </tr>\n",
       "  </thead>\n",
       "  <tbody>\n",
       "    <tr>\n",
       "      <th>Stingy</th>\n",
       "      <td>50.409836</td>\n",
       "    </tr>\n",
       "    <tr>\n",
       "      <th>Generous</th>\n",
       "      <td>49.590164</td>\n",
       "    </tr>\n",
       "  </tbody>\n",
       "</table>\n",
       "</div>"
      ],
      "text/plain": [
       "           proportion\n",
       "tip_given            \n",
       "Stingy      50.409836\n",
       "Generous    49.590164"
      ]
     },
     "metadata": {},
     "output_type": "display_data"
    },
    {
     "data": {
      "text/html": [
       "<div>\n",
       "<style scoped>\n",
       "    .dataframe tbody tr th:only-of-type {\n",
       "        vertical-align: middle;\n",
       "    }\n",
       "\n",
       "    .dataframe tbody tr th {\n",
       "        vertical-align: top;\n",
       "    }\n",
       "\n",
       "    .dataframe thead th {\n",
       "        text-align: right;\n",
       "    }\n",
       "</style>\n",
       "<table border=\"1\" class=\"dataframe\">\n",
       "  <thead>\n",
       "    <tr style=\"text-align: right;\">\n",
       "      <th></th>\n",
       "      <th>proportion</th>\n",
       "    </tr>\n",
       "    <tr>\n",
       "      <th>portion_size</th>\n",
       "      <th></th>\n",
       "    </tr>\n",
       "  </thead>\n",
       "  <tbody>\n",
       "    <tr>\n",
       "      <th>Small</th>\n",
       "      <td>65.57377</td>\n",
       "    </tr>\n",
       "    <tr>\n",
       "      <th>Big</th>\n",
       "      <td>34.42623</td>\n",
       "    </tr>\n",
       "  </tbody>\n",
       "</table>\n",
       "</div>"
      ],
      "text/plain": [
       "              proportion\n",
       "portion_size            \n",
       "Small           65.57377\n",
       "Big             34.42623"
      ]
     },
     "metadata": {},
     "output_type": "display_data"
    }
   ],
   "source": [
    "# Cek proporsi dari masing masing kolom pada populasi\n",
    "for i in ['sex', 'smoker', 'time', 'weekday_weekend', 'tip_given', 'portion_size']:\n",
    "    display(pd.DataFrame(tips[i].value_counts(normalize=True)*100))"
   ]
  },
  {
   "cell_type": "markdown",
   "metadata": {},
   "source": [
    "## Sampling"
   ]
  },
  {
   "cell_type": "code",
   "execution_count": 198,
   "metadata": {},
   "outputs": [],
   "source": [
    "# Sampling\n"
   ]
  },
  {
   "cell_type": "code",
   "execution_count": 199,
   "metadata": {},
   "outputs": [
    {
     "data": {
      "text/plain": [
       "41.040000000000006"
      ]
     },
     "execution_count": 199,
     "metadata": {},
     "output_type": "execute_result"
    }
   ],
   "source": [
    "# cek apakah banyak sample sudah cukup besar ? p_0*n > 15\n",
    "0.27 * 152 "
   ]
  },
  {
   "cell_type": "markdown",
   "metadata": {},
   "source": [
    "## Z-Test Single Population Proportion"
   ]
  },
  {
   "cell_type": "markdown",
   "metadata": {},
   "source": [
    "`Asumsi` : Menguji apakah proporsi customer `Male` = 63%? \n",
    "\n",
    "`Hipotesis`\n",
    "\n",
    "$H_{0} : p = 63$%\n",
    "\n",
    "$H_{a} : p > 63$%\n",
    "\n",
    "`Signifikansi`/ Tingkat Resiko ($\\alpha$)\n",
    "\n",
    "$\\alpha = 0.05$\n",
    "\n",
    "Pengambilan kesimpulan :\n",
    "\n",
    "- p-value $\\leq \\alpha$ : Reject $H_{0}$\n",
    "- p-value $> \\alpha$ : Failed to Reject $H_{0}$ / Accept $H_{0}$"
   ]
  },
  {
   "cell_type": "code",
   "execution_count": 200,
   "metadata": {},
   "outputs": [
    {
     "name": "stdout",
     "output_type": "stream",
     "text": [
      "P-value = 0.2342526561228287, karena P-value > 0.05, maka kita gagal bisa menolak H0 (Kita punya cukup bukti untuk menolak H0 / p <= 63%)\n"
     ]
    }
   ],
   "source": [
    "from statsmodels.stats.proportion import proportions_ztest\n",
    "phat = tipsSample['sex'].value_counts(normalize=True).reset_index()['proportion'][0]\n",
    "\n",
    "z_stat, p_value = proportions_ztest(phat*n, n, 0.63, alternative='larger')\n",
    "\n",
    "if p_value < 0.05:\n",
    "    print(f\"P-value/2 = {p_value}, karena P-value <= 0.05, maka kita bisa menolak H0 (Kita punya cukup bukti untuk menolak H0 / p > 63%)\")\n",
    "else:\n",
    "    print(f\"P-value = {p_value}, karena P-value > 0.05, maka kita gagal bisa menolak H0 (Kita punya cukup bukti untuk menolak H0 / p <= 63%)\")\n"
   ]
  },
  {
   "cell_type": "code",
   "execution_count": 201,
   "metadata": {},
   "outputs": [],
   "source": [
    "# Lakukan uji proporsi yang sama untuk menduga \n",
    "# 1. Proporsi customer tidak perokok = 59%\n",
    "# 2. Proporsi customer dinner = 70%\n",
    "# 3. Proporsi customer weekend = 65%\n",
    "# 4. Proporsi customer stingy = 50%\n",
    "# 5. Proporsi customer small portion size = 60%\n",
    "\n"
   ]
  },
  {
   "cell_type": "markdown",
   "metadata": {},
   "source": [
    "`Asumsi` : customer tidak perokok = 59%\n",
    "\n",
    "`Hipotesis`\n",
    "\n",
    "$H_{0} : p = 59%$%\n",
    "\n",
    "$H_{a} : p \\neq 59%$%\n",
    "\n",
    "`Signifikansi`/ Tingkat Resiko ($\\alpha$)\n",
    "\n",
    "$\\alpha = 0.05$\n",
    "\n",
    "Pengambilan kesimpulan :\n",
    "\n",
    "- p-value $\\leq \\alpha$ : Reject $H_{0}$\n",
    "- p-value $> \\alpha$ : Failed to Reject $H_{0}$ / Accept $H_{0}$"
   ]
  },
  {
   "cell_type": "code",
   "execution_count": 202,
   "metadata": {},
   "outputs": [
    {
     "name": "stdout",
     "output_type": "stream",
     "text": [
      "P-value = 0.0776627646173102, karena P-value > 0.05, maka kita gagal menolak H0 (Kita tidak punya cukup bukti untuk menolak H0 / p = 59%)\n"
     ]
    }
   ],
   "source": [
    "from statsmodels.stats.proportion import proportions_ztest\n",
    "phat = tipsSample['smoker'].value_counts(normalize=True).reset_index()['proportion'][0]\n",
    "\n",
    "z_stat, p_value = proportions_ztest(phat*n, n, 0.59, alternative='two-sided')\n",
    "\n",
    "if p_value < 0.05:\n",
    "    print(f\"P-value = {p_value}, karena P-value <= 0.05, maka kita bisa menolak H0 (Kita punya cukup bukti untuk menolak H0 / p ≠  59%)\")\n",
    "else:\n",
    "    print(f\"P-value = {p_value}, karena P-value > 0.05, maka kita gagal menolak H0 (Kita tidak punya cukup bukti untuk menolak H0 / p = 59%)\")\n"
   ]
  },
  {
   "cell_type": "code",
   "execution_count": 203,
   "metadata": {},
   "outputs": [
    {
     "name": "stdout",
     "output_type": "stream",
     "text": [
      "P-value = 0.5137658500052931, karena P-value > 0.05, maka kita gagal menolak H0 (Kita tidak punya cukup bukti untuk menolak H0 / p =  70%)\n"
     ]
    }
   ],
   "source": [
    "from statsmodels.stats.proportion import proportions_ztest\n",
    "phat = tipsSample['time'].value_counts(normalize=True).reset_index()['proportion'][0]\n",
    "\n",
    "z_stat, p_value = proportions_ztest(phat*n, n, 0.70, alternative='two-sided')\n",
    "\n",
    "if p_value < 0.05:\n",
    "    print(f\"P-value = {p_value}, karena P-value <= 0.05, maka kita bisa menolak H0 (Kita punya cukup bukti untuk menolak H0 / p ≠  70%)\")\n",
    "else:\n",
    "    print(f\"P-value = {p_value}, karena P-value > 0.05, maka kita gagal menolak H0 (Kita tidak punya cukup bukti untuk menolak H0 / p =  70%)\")\n"
   ]
  },
  {
   "cell_type": "code",
   "execution_count": 204,
   "metadata": {},
   "outputs": [
    {
     "name": "stdout",
     "output_type": "stream",
     "text": [
      "P-value = 0.3642073766710001, karena P-value > 0.05, maka kita gagal menolak H0 (Kita punya tidak cukup bukti untuk menolak H0 / p = 65%)\n"
     ]
    }
   ],
   "source": [
    "from statsmodels.stats.proportion import proportions_ztest\n",
    "phat = tipsSample['weekday_weekend'].value_counts(normalize=True).reset_index()['proportion'][0]\n",
    "\n",
    "z_stat, p_value = proportions_ztest(phat*n, n, 0.65, alternative='two-sided')\n",
    "\n",
    "if p_value < 0.05:\n",
    "    print(f\"P-value = {p_value}, karena P-value <= 0.05, maka kita bisa menolak H0 (Kita punya cukup bukti untuk menolak H0 / p ≠  65%)\")\n",
    "else:\n",
    "    print(f\"P-value = {p_value}, karena P-value > 0.05, maka kita gagal menolak H0 (Kita punya tidak cukup bukti untuk menolak H0 / p = 65%)\")\n"
   ]
  },
  {
   "cell_type": "code",
   "execution_count": 205,
   "metadata": {},
   "outputs": [
    {
     "name": "stdout",
     "output_type": "stream",
     "text": [
      "P-value = 0.015439339230518411, karena P-value <= 0.05, maka kita bisa menolak H0 (Kita punya cukup bukti untuk menolak H0 / p ≠  60%)\n"
     ]
    }
   ],
   "source": [
    "from statsmodels.stats.proportion import proportions_ztest\n",
    "phat = tipsSample['portion_size'].value_counts(normalize=True).reset_index()['proportion'][0]\n",
    "\n",
    "z_stat, p_value = proportions_ztest(phat*n, n, 0.60, alternative='two-sided')\n",
    "\n",
    "if p_value < 0.05:\n",
    "    print(f\"P-value = {p_value}, karena P-value <= 0.05, maka kita bisa menolak H0 (Kita punya cukup bukti untuk menolak H0 / p ≠  60%)\")\n",
    "else:\n",
    "    print(f\"P-value = {p_value}, karena P-value > 0.05, maka kita gagal menolak H0 (Kita punya tidak cukup bukti untuk menolak H0 / p = 60%)\")\n"
   ]
  },
  {
   "cell_type": "markdown",
   "metadata": {},
   "source": [
    "# Chi-Squared"
   ]
  },
  {
   "cell_type": "markdown",
   "metadata": {},
   "source": [
    "`Implementasi DATASET TIPS`"
   ]
  },
  {
   "cell_type": "markdown",
   "metadata": {},
   "source": [
    "`Asumsi` : Apakah ada hubungan antara `Sex` dan `Tip_given`\n",
    "\n",
    "`Hipotesis`\n",
    "\n",
    "$H_{0} : $ `sex` dan `tip_given` independent\n",
    "\n",
    "$H_{a} : $ `sex` dan `tip_given` dependent\n",
    "\n",
    "`Signifikansi`/ Tingkat Resiko ($\\alpha$)\n",
    "\n",
    "$\\alpha = 0.05$\n",
    "\n",
    "Pengambilan kesimpulan :\n",
    "\n",
    "- p-value $\\leq \\alpha$ : Reject $H_{0}$\n",
    "- p-value $> \\alpha$ : Failed to Reject $H_{0}$ / Accept $H_{0}$"
   ]
  },
  {
   "cell_type": "code",
   "execution_count": 206,
   "metadata": {},
   "outputs": [
    {
     "data": {
      "text/plain": [
       "152"
      ]
     },
     "metadata": {},
     "output_type": "display_data"
    },
    {
     "data": {
      "text/html": [
       "<div>\n",
       "<style scoped>\n",
       "    .dataframe tbody tr th:only-of-type {\n",
       "        vertical-align: middle;\n",
       "    }\n",
       "\n",
       "    .dataframe tbody tr th {\n",
       "        vertical-align: top;\n",
       "    }\n",
       "\n",
       "    .dataframe thead th {\n",
       "        text-align: right;\n",
       "    }\n",
       "</style>\n",
       "<table border=\"1\" class=\"dataframe\">\n",
       "  <thead>\n",
       "    <tr style=\"text-align: right;\">\n",
       "      <th></th>\n",
       "      <th>total_bill</th>\n",
       "      <th>tip</th>\n",
       "      <th>sex</th>\n",
       "      <th>smoker</th>\n",
       "      <th>day</th>\n",
       "      <th>time</th>\n",
       "      <th>size</th>\n",
       "      <th>weekday_weekend</th>\n",
       "      <th>tip_given</th>\n",
       "      <th>portion_size</th>\n",
       "    </tr>\n",
       "  </thead>\n",
       "  <tbody>\n",
       "    <tr>\n",
       "      <th>142</th>\n",
       "      <td>41.19</td>\n",
       "      <td>5.00</td>\n",
       "      <td>Male</td>\n",
       "      <td>No</td>\n",
       "      <td>Thur</td>\n",
       "      <td>Lunch</td>\n",
       "      <td>5</td>\n",
       "      <td>Weekdays</td>\n",
       "      <td>Generous</td>\n",
       "      <td>Big</td>\n",
       "    </tr>\n",
       "    <tr>\n",
       "      <th>242</th>\n",
       "      <td>17.82</td>\n",
       "      <td>1.75</td>\n",
       "      <td>Male</td>\n",
       "      <td>No</td>\n",
       "      <td>Sat</td>\n",
       "      <td>Dinner</td>\n",
       "      <td>2</td>\n",
       "      <td>Weekend</td>\n",
       "      <td>Stingy</td>\n",
       "      <td>Small</td>\n",
       "    </tr>\n",
       "    <tr>\n",
       "      <th>106</th>\n",
       "      <td>20.49</td>\n",
       "      <td>4.06</td>\n",
       "      <td>Male</td>\n",
       "      <td>Yes</td>\n",
       "      <td>Sat</td>\n",
       "      <td>Dinner</td>\n",
       "      <td>2</td>\n",
       "      <td>Weekend</td>\n",
       "      <td>Generous</td>\n",
       "      <td>Small</td>\n",
       "    </tr>\n",
       "    <tr>\n",
       "      <th>147</th>\n",
       "      <td>11.87</td>\n",
       "      <td>1.63</td>\n",
       "      <td>Female</td>\n",
       "      <td>No</td>\n",
       "      <td>Thur</td>\n",
       "      <td>Lunch</td>\n",
       "      <td>2</td>\n",
       "      <td>Weekdays</td>\n",
       "      <td>Stingy</td>\n",
       "      <td>Small</td>\n",
       "    </tr>\n",
       "    <tr>\n",
       "      <th>53</th>\n",
       "      <td>9.94</td>\n",
       "      <td>1.56</td>\n",
       "      <td>Male</td>\n",
       "      <td>No</td>\n",
       "      <td>Sun</td>\n",
       "      <td>Dinner</td>\n",
       "      <td>2</td>\n",
       "      <td>Weekend</td>\n",
       "      <td>Stingy</td>\n",
       "      <td>Small</td>\n",
       "    </tr>\n",
       "  </tbody>\n",
       "</table>\n",
       "</div>"
      ],
      "text/plain": [
       "     total_bill   tip     sex smoker   day    time  size weekday_weekend  \\\n",
       "142       41.19  5.00    Male     No  Thur   Lunch     5        Weekdays   \n",
       "242       17.82  1.75    Male     No   Sat  Dinner     2         Weekend   \n",
       "106       20.49  4.06    Male    Yes   Sat  Dinner     2         Weekend   \n",
       "147       11.87  1.63  Female     No  Thur   Lunch     2        Weekdays   \n",
       "53         9.94  1.56    Male     No   Sun  Dinner     2         Weekend   \n",
       "\n",
       "    tip_given portion_size  \n",
       "142  Generous          Big  \n",
       "242    Stingy        Small  \n",
       "106  Generous        Small  \n",
       "147    Stingy        Small  \n",
       "53     Stingy        Small  "
      ]
     },
     "metadata": {},
     "output_type": "display_data"
    }
   ],
   "source": [
    "tips2 = sns.load_dataset('tips')\n",
    "\n",
    "tips2['weekday_weekend'] = np.where(tips2['day'].isin(['Sat', 'Sun']), 'Weekend', 'Weekdays')\n",
    "\n",
    "# Create tip group apakah diatas rata rata dan dibawah rata rata\n",
    "tips2['tip_given'] = np.where(tips2['tip'] > tips2['tip'].mean(), 'Generous', 'Stingy')\n",
    "\n",
    "# Create portion size apakah size diatas rata rata dan dibawah rata rata\n",
    "tips2['portion_size'] = np.where(tips2['size'] > tips2['size'].mean(), 'Big', 'Small')\n",
    "tips2\n",
    "\n",
    "N = len(tips2)\n",
    "e = 0.05\n",
    "n = round(N/(1+(N*(e**2))))\n",
    "\n",
    "tips2Sample = tips2.sample(n)\n",
    "display(n, tipsSample.head())"
   ]
  },
  {
   "cell_type": "code",
   "execution_count": 207,
   "metadata": {},
   "outputs": [
    {
     "data": {
      "text/html": [
       "<div>\n",
       "<style scoped>\n",
       "    .dataframe tbody tr th:only-of-type {\n",
       "        vertical-align: middle;\n",
       "    }\n",
       "\n",
       "    .dataframe tbody tr th {\n",
       "        vertical-align: top;\n",
       "    }\n",
       "\n",
       "    .dataframe thead th {\n",
       "        text-align: right;\n",
       "    }\n",
       "</style>\n",
       "<table border=\"1\" class=\"dataframe\">\n",
       "  <thead>\n",
       "    <tr style=\"text-align: right;\">\n",
       "      <th>tip_given</th>\n",
       "      <th>Generous</th>\n",
       "      <th>Stingy</th>\n",
       "    </tr>\n",
       "    <tr>\n",
       "      <th>sex</th>\n",
       "      <th></th>\n",
       "      <th></th>\n",
       "    </tr>\n",
       "  </thead>\n",
       "  <tbody>\n",
       "    <tr>\n",
       "      <th>Male</th>\n",
       "      <td>53</td>\n",
       "      <td>50</td>\n",
       "    </tr>\n",
       "    <tr>\n",
       "      <th>Female</th>\n",
       "      <td>23</td>\n",
       "      <td>26</td>\n",
       "    </tr>\n",
       "  </tbody>\n",
       "</table>\n",
       "</div>"
      ],
      "text/plain": [
       "tip_given  Generous  Stingy\n",
       "sex                        \n",
       "Male             53      50\n",
       "Female           23      26"
      ]
     },
     "execution_count": 207,
     "metadata": {},
     "output_type": "execute_result"
    }
   ],
   "source": [
    "# buat jumlahan orang orang pergender dan tip give\n",
    "tipsAgg = tips2Sample.groupby(['sex', 'tip_given'])['total_bill'].count().reset_index().rename(columns={'total_bill':'count'})\n",
    "tipsAggPivot = tipsAgg.pivot(index='sex', columns='tip_given', values='count')\n",
    "tipsAggPivot\n"
   ]
  },
  {
   "cell_type": "code",
   "execution_count": 208,
   "metadata": {},
   "outputs": [
    {
     "name": "stdout",
     "output_type": "stream",
     "text": [
      "chi2 = 0.12046760451753516, p = 0.7285278871216065, dof = 1, ex = [[51.5 51.5]\n",
      " [24.5 24.5]]\n"
     ]
    }
   ],
   "source": [
    "# Pengujian Chi Square\n",
    "from scipy.stats import chi2_contingency\n",
    "stat, p, dof, ex = chi2_contingency(tipsAggPivot)\n",
    "print(f\"chi2 = {stat}, p = {p}, dof = {dof}, ex = {ex}\")"
   ]
  },
  {
   "cell_type": "code",
   "execution_count": 209,
   "metadata": {},
   "outputs": [
    {
     "name": "stdout",
     "output_type": "stream",
     "text": [
      "Chi-squared Statistic: 0.12046760451753516\n",
      "P-value: 0.7285278871216065\n",
      "Degrees of Freedom: 1\n",
      "Expected Frequencies: [[51.5 51.5]\n",
      " [24.5 24.5]]\n"
     ]
    }
   ],
   "source": [
    "# tampilkan hasil\n",
    "print(f\"Chi-squared Statistic: {stat}\")\n",
    "print(f\"P-value: {p}\")\n",
    "print(f\"Degrees of Freedom: {dof}\")\n",
    "print(f\"Expected Frequencies: {ex}\")"
   ]
  },
  {
   "cell_type": "markdown",
   "metadata": {},
   "source": [
    "`Asumsi` : Apakah ada hubungan antara `time` dan `weekday-weekend`\n",
    "\n",
    "`Hipotesis`\n",
    "\n",
    "$H_{0} : $ `time` dan `weekday-weekend` independent\n",
    "\n",
    "$H_{a} : $ `time` dan `weekday-weekend` dependent\n",
    "\n",
    "`Signifikansi`/ Tingkat Resiko ($\\alpha$)\n",
    "\n",
    "$\\alpha = 0.05$\n",
    "\n",
    "Pengambilan kesimpulan :\n",
    "\n",
    "- p-value $\\leq \\alpha$ : Reject $H_{0}$\n",
    "- p-value $> \\alpha$ : Failed to Reject $H_{0}$ / Accept $H_{0}$"
   ]
  },
  {
   "cell_type": "code",
   "execution_count": 210,
   "metadata": {},
   "outputs": [
    {
     "data": {
      "text/html": [
       "<div>\n",
       "<style scoped>\n",
       "    .dataframe tbody tr th:only-of-type {\n",
       "        vertical-align: middle;\n",
       "    }\n",
       "\n",
       "    .dataframe tbody tr th {\n",
       "        vertical-align: top;\n",
       "    }\n",
       "\n",
       "    .dataframe thead th {\n",
       "        text-align: right;\n",
       "    }\n",
       "</style>\n",
       "<table border=\"1\" class=\"dataframe\">\n",
       "  <thead>\n",
       "    <tr style=\"text-align: right;\">\n",
       "      <th>weekday_weekend</th>\n",
       "      <th>Weekdays</th>\n",
       "      <th>Weekend</th>\n",
       "    </tr>\n",
       "    <tr>\n",
       "      <th>time</th>\n",
       "      <th></th>\n",
       "      <th></th>\n",
       "    </tr>\n",
       "  </thead>\n",
       "  <tbody>\n",
       "    <tr>\n",
       "      <th>Lunch</th>\n",
       "      <td>40</td>\n",
       "      <td>0</td>\n",
       "    </tr>\n",
       "    <tr>\n",
       "      <th>Dinner</th>\n",
       "      <td>9</td>\n",
       "      <td>103</td>\n",
       "    </tr>\n",
       "  </tbody>\n",
       "</table>\n",
       "</div>"
      ],
      "text/plain": [
       "weekday_weekend  Weekdays  Weekend\n",
       "time                              \n",
       "Lunch                  40        0\n",
       "Dinner                  9      103"
      ]
     },
     "execution_count": 210,
     "metadata": {},
     "output_type": "execute_result"
    }
   ],
   "source": [
    "# Soal 2\n",
    "# laki laki : apakah ada hubungan antara time dan weekday-weekend\n",
    "\n",
    "tipsAgg = tips2Sample.groupby(['time', 'weekday_weekend']).size().reset_index(name='count')\n",
    "\n",
    "tipsAggPivot = tips2Sample.groupby(['time', 'weekday_weekend']).size().reset_index(name='count').pivot(index='time', columns='weekday_weekend', values='count')\n",
    "\n",
    "tipsAggPivot"
   ]
  },
  {
   "cell_type": "code",
   "execution_count": 211,
   "metadata": {},
   "outputs": [
    {
     "name": "stdout",
     "output_type": "stream",
     "text": [
      "chi2 = 109.93970392595318, p = 1.0101715766381503e-25, dof = 1, ex = [[12.89473684 27.10526316]\n",
      " [36.10526316 75.89473684]]\n"
     ]
    }
   ],
   "source": [
    "from scipy.stats import chi2_contingency\n",
    "stat, p, dof, ex = chi2_contingency(tipsAggPivot)\n",
    "print(f\"chi2 = {stat}, p = {p}, dof = {dof}, ex = {ex}\")"
   ]
  },
  {
   "cell_type": "code",
   "execution_count": 212,
   "metadata": {},
   "outputs": [
    {
     "name": "stdout",
     "output_type": "stream",
     "text": [
      "Chi-squared Statistic: 109.93970392595318\n",
      "P-value = 1.0101715766381503e-25, karena P-value <= 0.05, maka kita bisa menolak H0 (Kita punya cukup bukti untuk menolak H0 / time dan weekday_weekend dependent)\n"
     ]
    }
   ],
   "source": [
    "print(f\"Chi-squared Statistic: {stat}\")\n",
    "\n",
    "if p < 0.05:\n",
    "    print(f\"P-value = {p}, karena P-value <= 0.05, maka kita bisa menolak H0 (Kita punya cukup bukti untuk menolak H0 / time dan weekday_weekend dependent)\")\n",
    "else:\n",
    "    print(f\"P-value = {p}, karena P-value > 0.05, maka kita gagal menolak H0 (Kita punya tidak cukup bukti untuk menolak H0 / time dan weekday_weekend independent)\")"
   ]
  },
  {
   "cell_type": "markdown",
   "metadata": {},
   "source": [
    "`Asumsi` : Apakah ada hubungan antara `gender` dan `smoker`\n",
    "\n",
    "`Hipotesis`\n",
    "\n",
    "$H_{0} : $ `gender` dan `smoker` independent\n",
    "\n",
    "$H_{a} : $ `gender` dan `smoker` dependent\n",
    "\n",
    "`Signifikansi`/ Tingkat Resiko ($\\alpha$)\n",
    "\n",
    "$\\alpha = 0.05$\n",
    "\n",
    "Pengambilan kesimpulan :\n",
    "\n",
    "- p-value $\\leq \\alpha$ : Reject $H_{0}$\n",
    "- p-value $> \\alpha$ : Failed to Reject $H_{0}$ / Accept $H_{0}$"
   ]
  },
  {
   "cell_type": "code",
   "execution_count": 213,
   "metadata": {},
   "outputs": [
    {
     "data": {
      "text/html": [
       "<div>\n",
       "<style scoped>\n",
       "    .dataframe tbody tr th:only-of-type {\n",
       "        vertical-align: middle;\n",
       "    }\n",
       "\n",
       "    .dataframe tbody tr th {\n",
       "        vertical-align: top;\n",
       "    }\n",
       "\n",
       "    .dataframe thead th {\n",
       "        text-align: right;\n",
       "    }\n",
       "</style>\n",
       "<table border=\"1\" class=\"dataframe\">\n",
       "  <thead>\n",
       "    <tr style=\"text-align: right;\">\n",
       "      <th>smoker</th>\n",
       "      <th>Yes</th>\n",
       "      <th>No</th>\n",
       "    </tr>\n",
       "    <tr>\n",
       "      <th>sex</th>\n",
       "      <th></th>\n",
       "      <th></th>\n",
       "    </tr>\n",
       "  </thead>\n",
       "  <tbody>\n",
       "    <tr>\n",
       "      <th>Male</th>\n",
       "      <td>36</td>\n",
       "      <td>67</td>\n",
       "    </tr>\n",
       "    <tr>\n",
       "      <th>Female</th>\n",
       "      <td>19</td>\n",
       "      <td>30</td>\n",
       "    </tr>\n",
       "  </tbody>\n",
       "</table>\n",
       "</div>"
      ],
      "text/plain": [
       "smoker  Yes  No\n",
       "sex            \n",
       "Male     36  67\n",
       "Female   19  30"
      ]
     },
     "execution_count": 213,
     "metadata": {},
     "output_type": "execute_result"
    }
   ],
   "source": [
    "\n",
    "# cari apakah ada hubungan antara gender dan smoker\n",
    "\n",
    "tipsAgg2 = tips2Sample.groupby(['sex', 'smoker']).size().reset_index(name='count')\n",
    "\n",
    "tipsAgg2Pivot = tips2Sample.groupby(['sex', 'smoker']).size().reset_index(name='count').pivot(index='sex', columns='smoker', values='count')\n",
    "\n",
    "tipsAgg2Pivot"
   ]
  },
  {
   "cell_type": "code",
   "execution_count": 217,
   "metadata": {},
   "outputs": [
    {
     "name": "stdout",
     "output_type": "stream",
     "text": [
      "chi2 = 0.07727652475353967, p = 0.7810226797128352, dof = 1, ex = [[37.26973684 65.73026316]\n",
      " [17.73026316 31.26973684]]\n"
     ]
    }
   ],
   "source": [
    "from scipy.stats import chi2_contingency\n",
    "stat, p, dof, ex = chi2_contingency(tipsAgg2Pivot)\n",
    "print(f\"chi2 = {stat}, p = {p}, dof = {dof}, ex = {ex}\")"
   ]
  },
  {
   "cell_type": "code",
   "execution_count": 219,
   "metadata": {},
   "outputs": [
    {
     "name": "stdout",
     "output_type": "stream",
     "text": [
      "Chi-squared Statistic: 0.07727652475353967\n",
      "P-value = 0.7810226797128352, karena P-value > 0.05, maka kita gagal menolak H0 (Kita punya tidak cukup bukti untuk menolak H0 / gender dan smoker independent)\n"
     ]
    }
   ],
   "source": [
    "print(f\"Chi-squared Statistic: {stat}\")\n",
    "\n",
    "if p < 0.05:\n",
    "    print(f\"P-value = {p}, karena P-value <= 0.05, maka kita bisa menolak H0 (Kita punya cukup bukti untuk menolak H0 / gender dan smoker dependent)\")\n",
    "else:\n",
    "    print(f\"P-value = {p}, karena P-value > 0.05, maka kita gagal menolak H0 (Kita punya tidak cukup bukti untuk menolak H0 / gender dan smoker independent)\")"
   ]
  }
 ],
 "metadata": {
  "kernelspec": {
   "display_name": "Python 3",
   "language": "python",
   "name": "python3"
  },
  "language_info": {
   "codemirror_mode": {
    "name": "ipython",
    "version": 3
   },
   "file_extension": ".py",
   "mimetype": "text/x-python",
   "name": "python",
   "nbconvert_exporter": "python",
   "pygments_lexer": "ipython3",
   "version": "3.12.3"
  }
 },
 "nbformat": 4,
 "nbformat_minor": 2
}
